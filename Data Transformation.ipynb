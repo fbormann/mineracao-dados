{
 "cells": [
  {
   "cell_type": "markdown",
   "metadata": {},
   "source": [
    "Download sense2vec Reddit models to ./models\n",
    "wget https://github.com/explosion/sense2vec/releases/download/v1.0.0/s2v_reddit_2015_md.tar.gz -P ./models\n",
    "\n",
    "And extract files"
   ]
  },
  {
   "cell_type": "markdown",
   "metadata": {},
   "source": [
    "Download spacy models\n",
    "python -m spacy download en_core_web_sm"
   ]
  },
  {
   "cell_type": "code",
   "execution_count": 1,
   "metadata": {},
   "outputs": [],
   "source": [
    "from sense2vec import Sense2Vec, Sense2VecComponent\n",
    "import spacy, pandas"
   ]
  },
  {
   "cell_type": "code",
   "execution_count": 2,
   "metadata": {},
   "outputs": [],
   "source": [
    "nlp = spacy.load(\"en_core_web_sm\")\n",
    "s2v = Sense2Vec().from_disk(\"./models/s2v_reddit_2015_md/s2v_old/\")"
   ]
  },
  {
   "cell_type": "code",
   "execution_count": 3,
   "metadata": {},
   "outputs": [],
   "source": [
    "df = pandas.read_csv(\"./twitter_data/exploration_dataset.csv\")"
   ]
  },
  {
   "cell_type": "code",
   "execution_count": 4,
   "metadata": {
    "tags": []
   },
   "outputs": [
    {
     "name": "stdout",
     "output_type": "stream",
     "text": [
      "Parsing sentences\n"
     ]
    }
   ],
   "source": [
    "vectors_df = pandas.DataFrame(columns=['id','vectors','label'])\n",
    "print(\"Parsing sentences\")\n",
    "for idx, row in df.iterrows():\n",
    "    try:\n",
    "        doc = nlp(row['text'])\n",
    "        vectors = []\n",
    "        for token in doc:\n",
    "            key = \"{0}|{1}\".format(token.lemma_, token.pos_)\n",
    "            if key in s2v:\n",
    "                vector = s2v[key]\n",
    "                vectors.append(vector)\n",
    "        vectors_df.append({\n",
    "            \"id\":idx,\n",
    "            \"vectors\":vectors,\n",
    "            'label':row['label']\n",
    "        })\n",
    "            \n",
    "    except:\n",
    "        pass\n",
    "print(\"Done!\")"
   ]
  },
  {
   "cell_type": "code",
   "execution_count": null,
   "metadata": {},
   "outputs": [],
   "source": [
    "vectors_df.to_pickle(\"./twitter_data/vectors.pkl\")vectors_df.to_pickle(\"./twitter_data/vectors.pkl\")"
   ]
  }
 ],
 "metadata": {
  "kernelspec": {
   "display_name": "Python 3",
   "language": "python",
   "name": "python3"
  },
  "language_info": {
   "codemirror_mode": {
    "name": "ipython",
    "version": 3
   },
   "file_extension": ".py",
   "mimetype": "text/x-python",
   "name": "python",
   "nbconvert_exporter": "python",
   "pygments_lexer": "ipython3",
   "version": "3.8.2"
  }
 },
 "nbformat": 4,
 "nbformat_minor": 4
}
