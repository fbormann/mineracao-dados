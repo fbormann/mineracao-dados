{
 "cells": [
  {
   "cell_type": "markdown",
   "metadata": {},
   "source": [
    "# Setup inicial"
   ]
  },
  {
   "cell_type": "code",
   "execution_count": 46,
   "metadata": {
    "scrolled": true
   },
   "outputs": [
    {
     "name": "stderr",
     "output_type": "stream",
     "text": [
      "[nltk_data] Downloading package stopwords to\n",
      "[nltk_data]     /home/bormann/nltk_data...\n",
      "[nltk_data]   Unzipping corpora/stopwords.zip.\n"
     ]
    }
   ],
   "source": [
    "import pandas as pd\n",
    "import janitor\n",
    "import matplotlib.pyplot as plt\n",
    "from scipy.stats import zscore\n",
    "import nltk\n",
    "from nltk.corpus import stopwords\n",
    "nltk.download('stopwords')\n",
    "stop = stopwords.words('english')"
   ]
  },
  {
   "cell_type": "code",
   "execution_count": 3,
   "metadata": {},
   "outputs": [],
   "source": [
    "df = pd.read_csv(\"twitter_data/exploration_dataset.csv\", index_col=0)"
   ]
  },
  {
   "cell_type": "code",
   "execution_count": 4,
   "metadata": {},
   "outputs": [
    {
     "data": {
      "text/html": [
       "<div>\n",
       "<style scoped>\n",
       "    .dataframe tbody tr th:only-of-type {\n",
       "        vertical-align: middle;\n",
       "    }\n",
       "\n",
       "    .dataframe tbody tr th {\n",
       "        vertical-align: top;\n",
       "    }\n",
       "\n",
       "    .dataframe thead th {\n",
       "        text-align: right;\n",
       "    }\n",
       "</style>\n",
       "<table border=\"1\" class=\"dataframe\">\n",
       "  <thead>\n",
       "    <tr style=\"text-align: right;\">\n",
       "      <th></th>\n",
       "      <th>param_defaults</th>\n",
       "      <th>contributors</th>\n",
       "      <th>coordinates</th>\n",
       "      <th>created_at</th>\n",
       "      <th>current_user_retweet</th>\n",
       "      <th>favorite_count</th>\n",
       "      <th>favorited</th>\n",
       "      <th>full_text</th>\n",
       "      <th>geo</th>\n",
       "      <th>hashtags</th>\n",
       "      <th>...</th>\n",
       "      <th>withheld_copyright</th>\n",
       "      <th>withheld_in_countries</th>\n",
       "      <th>withheld_scope</th>\n",
       "      <th>tweet_mode</th>\n",
       "      <th>_json</th>\n",
       "      <th>tweet_id</th>\n",
       "      <th>label</th>\n",
       "      <th>Unnamed: 41</th>\n",
       "      <th>Unnamed: 42</th>\n",
       "      <th>Unnamed: 43</th>\n",
       "    </tr>\n",
       "  </thead>\n",
       "  <tbody>\n",
       "    <tr>\n",
       "      <th>0</th>\n",
       "      <td>{'contributors': None, 'coordinates': None, 'c...</td>\n",
       "      <td>NaN</td>\n",
       "      <td>NaN</td>\n",
       "      <td>Mon Mar 02 09:48:33 +0000 2015</td>\n",
       "      <td>NaN</td>\n",
       "      <td>2</td>\n",
       "      <td>False</td>\n",
       "      <td>NaN</td>\n",
       "      <td>NaN</td>\n",
       "      <td>[Hashtag(Text='MKR')]</td>\n",
       "      <td>...</td>\n",
       "      <td>NaN</td>\n",
       "      <td>NaN</td>\n",
       "      <td>NaN</td>\n",
       "      <td>compatibility</td>\n",
       "      <td>{'created_at': 'Mon Mar 02 09:48:33 +0000 2015...</td>\n",
       "      <td>5,7233265539763E+017</td>\n",
       "      <td>racism</td>\n",
       "      <td>NaN</td>\n",
       "      <td>NaN</td>\n",
       "      <td>NaN</td>\n",
       "    </tr>\n",
       "    <tr>\n",
       "      <th>1</th>\n",
       "      <td>{'contributors': None, 'coordinates': None, 'c...</td>\n",
       "      <td>NaN</td>\n",
       "      <td>{'type': 'Point', 'coordinates': [153.37975174...</td>\n",
       "      <td>Mon Mar 02 10:23:41 +0000 2015</td>\n",
       "      <td>NaN</td>\n",
       "      <td>4</td>\n",
       "      <td>False</td>\n",
       "      <td>NaN</td>\n",
       "      <td>{'type': 'Point', 'coordinates': [-28.07334137...</td>\n",
       "      <td>[Hashtag(Text='mkr')]</td>\n",
       "      <td>...</td>\n",
       "      <td>NaN</td>\n",
       "      <td>NaN</td>\n",
       "      <td>NaN</td>\n",
       "      <td>compatibility</td>\n",
       "      <td>{'created_at': 'Mon Mar 02 10:23:41 +0000 2015...</td>\n",
       "      <td>5,72341498827522E+017</td>\n",
       "      <td>racism</td>\n",
       "      <td>NaN</td>\n",
       "      <td>NaN</td>\n",
       "      <td>NaN</td>\n",
       "    </tr>\n",
       "    <tr>\n",
       "      <th>2</th>\n",
       "      <td>{'contributors': None, 'coordinates': None, 'c...</td>\n",
       "      <td>NaN</td>\n",
       "      <td>{'type': 'Point', 'coordinates': [153.37975174...</td>\n",
       "      <td>Mon Mar 02 10:23:41 +0000 2015</td>\n",
       "      <td>NaN</td>\n",
       "      <td>4</td>\n",
       "      <td>False</td>\n",
       "      <td>NaN</td>\n",
       "      <td>{'type': 'Point', 'coordinates': [-28.07334137...</td>\n",
       "      <td>[Hashtag(Text='mkr')]</td>\n",
       "      <td>...</td>\n",
       "      <td>NaN</td>\n",
       "      <td>NaN</td>\n",
       "      <td>NaN</td>\n",
       "      <td>compatibility</td>\n",
       "      <td>{'created_at': 'Mon Mar 02 10:23:41 +0000 2015...</td>\n",
       "      <td>5,72341498827522E+017</td>\n",
       "      <td>none</td>\n",
       "      <td>NaN</td>\n",
       "      <td>NaN</td>\n",
       "      <td>NaN</td>\n",
       "    </tr>\n",
       "    <tr>\n",
       "      <th>3</th>\n",
       "      <td>{'contributors': None, 'coordinates': None, 'c...</td>\n",
       "      <td>NaN</td>\n",
       "      <td>{'type': 'Point', 'coordinates': [153.37975174...</td>\n",
       "      <td>Mon Mar 02 10:23:41 +0000 2015</td>\n",
       "      <td>NaN</td>\n",
       "      <td>4</td>\n",
       "      <td>False</td>\n",
       "      <td>NaN</td>\n",
       "      <td>{'type': 'Point', 'coordinates': [-28.07334137...</td>\n",
       "      <td>[Hashtag(Text='mkr')]</td>\n",
       "      <td>...</td>\n",
       "      <td>NaN</td>\n",
       "      <td>NaN</td>\n",
       "      <td>NaN</td>\n",
       "      <td>compatibility</td>\n",
       "      <td>{'created_at': 'Mon Mar 02 10:23:41 +0000 2015...</td>\n",
       "      <td>5,72341498827522E+017</td>\n",
       "      <td>racism</td>\n",
       "      <td>NaN</td>\n",
       "      <td>NaN</td>\n",
       "      <td>NaN</td>\n",
       "    </tr>\n",
       "    <tr>\n",
       "      <th>4</th>\n",
       "      <td>{'contributors': None, 'coordinates': None, 'c...</td>\n",
       "      <td>NaN</td>\n",
       "      <td>{'type': 'Point', 'coordinates': [153.37975174...</td>\n",
       "      <td>Mon Mar 02 10:23:41 +0000 2015</td>\n",
       "      <td>NaN</td>\n",
       "      <td>4</td>\n",
       "      <td>False</td>\n",
       "      <td>NaN</td>\n",
       "      <td>{'type': 'Point', 'coordinates': [-28.07334137...</td>\n",
       "      <td>[Hashtag(Text='mkr')]</td>\n",
       "      <td>...</td>\n",
       "      <td>NaN</td>\n",
       "      <td>NaN</td>\n",
       "      <td>NaN</td>\n",
       "      <td>compatibility</td>\n",
       "      <td>{'created_at': 'Mon Mar 02 10:23:41 +0000 2015...</td>\n",
       "      <td>5,72341498827522E+017</td>\n",
       "      <td>none</td>\n",
       "      <td>NaN</td>\n",
       "      <td>NaN</td>\n",
       "      <td>NaN</td>\n",
       "    </tr>\n",
       "    <tr>\n",
       "      <th>5</th>\n",
       "      <td>{'contributors': None, 'coordinates': None, 'c...</td>\n",
       "      <td>NaN</td>\n",
       "      <td>NaN</td>\n",
       "      <td>Mon Mar 02 10:19:37 +0000 2015</td>\n",
       "      <td>NaN</td>\n",
       "      <td>2</td>\n",
       "      <td>False</td>\n",
       "      <td>NaN</td>\n",
       "      <td>NaN</td>\n",
       "      <td>[Hashtag(Text='MKR')]</td>\n",
       "      <td>...</td>\n",
       "      <td>NaN</td>\n",
       "      <td>NaN</td>\n",
       "      <td>NaN</td>\n",
       "      <td>compatibility</td>\n",
       "      <td>{'created_at': 'Mon Mar 02 10:19:37 +0000 2015...</td>\n",
       "      <td>5,72340476503724E+017</td>\n",
       "      <td>racism</td>\n",
       "      <td>NaN</td>\n",
       "      <td>NaN</td>\n",
       "      <td>NaN</td>\n",
       "    </tr>\n",
       "    <tr>\n",
       "      <th>6</th>\n",
       "      <td>{'contributors': None, 'coordinates': None, 'c...</td>\n",
       "      <td>NaN</td>\n",
       "      <td>NaN</td>\n",
       "      <td>Mon Mar 02 10:19:37 +0000 2015</td>\n",
       "      <td>NaN</td>\n",
       "      <td>2</td>\n",
       "      <td>False</td>\n",
       "      <td>NaN</td>\n",
       "      <td>NaN</td>\n",
       "      <td>[Hashtag(Text='MKR')]</td>\n",
       "      <td>...</td>\n",
       "      <td>NaN</td>\n",
       "      <td>NaN</td>\n",
       "      <td>NaN</td>\n",
       "      <td>compatibility</td>\n",
       "      <td>{'created_at': 'Mon Mar 02 10:19:37 +0000 2015...</td>\n",
       "      <td>5,72340476503724E+017</td>\n",
       "      <td>none</td>\n",
       "      <td>NaN</td>\n",
       "      <td>NaN</td>\n",
       "      <td>NaN</td>\n",
       "    </tr>\n",
       "    <tr>\n",
       "      <th>7</th>\n",
       "      <td>{'contributors': None, 'coordinates': None, 'c...</td>\n",
       "      <td>NaN</td>\n",
       "      <td>NaN</td>\n",
       "      <td>Mon Mar 02 10:19:37 +0000 2015</td>\n",
       "      <td>NaN</td>\n",
       "      <td>2</td>\n",
       "      <td>False</td>\n",
       "      <td>NaN</td>\n",
       "      <td>NaN</td>\n",
       "      <td>[Hashtag(Text='MKR')]</td>\n",
       "      <td>...</td>\n",
       "      <td>NaN</td>\n",
       "      <td>NaN</td>\n",
       "      <td>NaN</td>\n",
       "      <td>compatibility</td>\n",
       "      <td>{'created_at': 'Mon Mar 02 10:19:37 +0000 2015...</td>\n",
       "      <td>5,72340476503724E+017</td>\n",
       "      <td>racism</td>\n",
       "      <td>NaN</td>\n",
       "      <td>NaN</td>\n",
       "      <td>NaN</td>\n",
       "    </tr>\n",
       "    <tr>\n",
       "      <th>8</th>\n",
       "      <td>{'contributors': None, 'coordinates': None, 'c...</td>\n",
       "      <td>NaN</td>\n",
       "      <td>NaN</td>\n",
       "      <td>Mon Mar 02 10:19:37 +0000 2015</td>\n",
       "      <td>NaN</td>\n",
       "      <td>2</td>\n",
       "      <td>False</td>\n",
       "      <td>NaN</td>\n",
       "      <td>NaN</td>\n",
       "      <td>[Hashtag(Text='MKR')]</td>\n",
       "      <td>...</td>\n",
       "      <td>NaN</td>\n",
       "      <td>NaN</td>\n",
       "      <td>NaN</td>\n",
       "      <td>compatibility</td>\n",
       "      <td>{'created_at': 'Mon Mar 02 10:19:37 +0000 2015...</td>\n",
       "      <td>5,72340476503724E+017</td>\n",
       "      <td>none</td>\n",
       "      <td>NaN</td>\n",
       "      <td>NaN</td>\n",
       "      <td>NaN</td>\n",
       "    </tr>\n",
       "    <tr>\n",
       "      <th>9</th>\n",
       "      <td>{'contributors': None, 'coordinates': None, 'c...</td>\n",
       "      <td>NaN</td>\n",
       "      <td>NaN</td>\n",
       "      <td>Mon Mar 02 09:56:43 +0000 2015</td>\n",
       "      <td>NaN</td>\n",
       "      <td>0</td>\n",
       "      <td>False</td>\n",
       "      <td>NaN</td>\n",
       "      <td>NaN</td>\n",
       "      <td>[Hashtag(Text='MKR')]</td>\n",
       "      <td>...</td>\n",
       "      <td>NaN</td>\n",
       "      <td>NaN</td>\n",
       "      <td>NaN</td>\n",
       "      <td>compatibility</td>\n",
       "      <td>{'created_at': 'Mon Mar 02 09:56:43 +0000 2015...</td>\n",
       "      <td>5,72334712804385E+017</td>\n",
       "      <td>racism</td>\n",
       "      <td>NaN</td>\n",
       "      <td>NaN</td>\n",
       "      <td>NaN</td>\n",
       "    </tr>\n",
       "  </tbody>\n",
       "</table>\n",
       "<p>10 rows × 43 columns</p>\n",
       "</div>"
      ],
      "text/plain": [
       "                                      param_defaults  contributors  \\\n",
       "0  {'contributors': None, 'coordinates': None, 'c...           NaN   \n",
       "1  {'contributors': None, 'coordinates': None, 'c...           NaN   \n",
       "2  {'contributors': None, 'coordinates': None, 'c...           NaN   \n",
       "3  {'contributors': None, 'coordinates': None, 'c...           NaN   \n",
       "4  {'contributors': None, 'coordinates': None, 'c...           NaN   \n",
       "5  {'contributors': None, 'coordinates': None, 'c...           NaN   \n",
       "6  {'contributors': None, 'coordinates': None, 'c...           NaN   \n",
       "7  {'contributors': None, 'coordinates': None, 'c...           NaN   \n",
       "8  {'contributors': None, 'coordinates': None, 'c...           NaN   \n",
       "9  {'contributors': None, 'coordinates': None, 'c...           NaN   \n",
       "\n",
       "                                         coordinates  \\\n",
       "0                                                NaN   \n",
       "1  {'type': 'Point', 'coordinates': [153.37975174...   \n",
       "2  {'type': 'Point', 'coordinates': [153.37975174...   \n",
       "3  {'type': 'Point', 'coordinates': [153.37975174...   \n",
       "4  {'type': 'Point', 'coordinates': [153.37975174...   \n",
       "5                                                NaN   \n",
       "6                                                NaN   \n",
       "7                                                NaN   \n",
       "8                                                NaN   \n",
       "9                                                NaN   \n",
       "\n",
       "                       created_at  current_user_retweet  favorite_count  \\\n",
       "0  Mon Mar 02 09:48:33 +0000 2015                   NaN               2   \n",
       "1  Mon Mar 02 10:23:41 +0000 2015                   NaN               4   \n",
       "2  Mon Mar 02 10:23:41 +0000 2015                   NaN               4   \n",
       "3  Mon Mar 02 10:23:41 +0000 2015                   NaN               4   \n",
       "4  Mon Mar 02 10:23:41 +0000 2015                   NaN               4   \n",
       "5  Mon Mar 02 10:19:37 +0000 2015                   NaN               2   \n",
       "6  Mon Mar 02 10:19:37 +0000 2015                   NaN               2   \n",
       "7  Mon Mar 02 10:19:37 +0000 2015                   NaN               2   \n",
       "8  Mon Mar 02 10:19:37 +0000 2015                   NaN               2   \n",
       "9  Mon Mar 02 09:56:43 +0000 2015                   NaN               0   \n",
       "\n",
       "   favorited  full_text                                                geo  \\\n",
       "0      False        NaN                                                NaN   \n",
       "1      False        NaN  {'type': 'Point', 'coordinates': [-28.07334137...   \n",
       "2      False        NaN  {'type': 'Point', 'coordinates': [-28.07334137...   \n",
       "3      False        NaN  {'type': 'Point', 'coordinates': [-28.07334137...   \n",
       "4      False        NaN  {'type': 'Point', 'coordinates': [-28.07334137...   \n",
       "5      False        NaN                                                NaN   \n",
       "6      False        NaN                                                NaN   \n",
       "7      False        NaN                                                NaN   \n",
       "8      False        NaN                                                NaN   \n",
       "9      False        NaN                                                NaN   \n",
       "\n",
       "                hashtags  ... withheld_copyright withheld_in_countries  \\\n",
       "0  [Hashtag(Text='MKR')]  ...                NaN                   NaN   \n",
       "1  [Hashtag(Text='mkr')]  ...                NaN                   NaN   \n",
       "2  [Hashtag(Text='mkr')]  ...                NaN                   NaN   \n",
       "3  [Hashtag(Text='mkr')]  ...                NaN                   NaN   \n",
       "4  [Hashtag(Text='mkr')]  ...                NaN                   NaN   \n",
       "5  [Hashtag(Text='MKR')]  ...                NaN                   NaN   \n",
       "6  [Hashtag(Text='MKR')]  ...                NaN                   NaN   \n",
       "7  [Hashtag(Text='MKR')]  ...                NaN                   NaN   \n",
       "8  [Hashtag(Text='MKR')]  ...                NaN                   NaN   \n",
       "9  [Hashtag(Text='MKR')]  ...                NaN                   NaN   \n",
       "\n",
       "  withheld_scope     tweet_mode  \\\n",
       "0            NaN  compatibility   \n",
       "1            NaN  compatibility   \n",
       "2            NaN  compatibility   \n",
       "3            NaN  compatibility   \n",
       "4            NaN  compatibility   \n",
       "5            NaN  compatibility   \n",
       "6            NaN  compatibility   \n",
       "7            NaN  compatibility   \n",
       "8            NaN  compatibility   \n",
       "9            NaN  compatibility   \n",
       "\n",
       "                                               _json               tweet_id  \\\n",
       "0  {'created_at': 'Mon Mar 02 09:48:33 +0000 2015...   5,7233265539763E+017   \n",
       "1  {'created_at': 'Mon Mar 02 10:23:41 +0000 2015...  5,72341498827522E+017   \n",
       "2  {'created_at': 'Mon Mar 02 10:23:41 +0000 2015...  5,72341498827522E+017   \n",
       "3  {'created_at': 'Mon Mar 02 10:23:41 +0000 2015...  5,72341498827522E+017   \n",
       "4  {'created_at': 'Mon Mar 02 10:23:41 +0000 2015...  5,72341498827522E+017   \n",
       "5  {'created_at': 'Mon Mar 02 10:19:37 +0000 2015...  5,72340476503724E+017   \n",
       "6  {'created_at': 'Mon Mar 02 10:19:37 +0000 2015...  5,72340476503724E+017   \n",
       "7  {'created_at': 'Mon Mar 02 10:19:37 +0000 2015...  5,72340476503724E+017   \n",
       "8  {'created_at': 'Mon Mar 02 10:19:37 +0000 2015...  5,72340476503724E+017   \n",
       "9  {'created_at': 'Mon Mar 02 09:56:43 +0000 2015...  5,72334712804385E+017   \n",
       "\n",
       "    label Unnamed: 41 Unnamed: 42 Unnamed: 43  \n",
       "0  racism         NaN         NaN         NaN  \n",
       "1  racism         NaN         NaN         NaN  \n",
       "2    none         NaN         NaN         NaN  \n",
       "3  racism         NaN         NaN         NaN  \n",
       "4    none         NaN         NaN         NaN  \n",
       "5  racism         NaN         NaN         NaN  \n",
       "6    none         NaN         NaN         NaN  \n",
       "7  racism         NaN         NaN         NaN  \n",
       "8    none         NaN         NaN         NaN  \n",
       "9  racism         NaN         NaN         NaN  \n",
       "\n",
       "[10 rows x 43 columns]"
      ]
     },
     "execution_count": 4,
     "metadata": {},
     "output_type": "execute_result"
    }
   ],
   "source": [
    "df.head(10)"
   ]
  },
  {
   "cell_type": "markdown",
   "metadata": {},
   "source": [
    "# Explorando dados\n",
    "Nesta seção o objetivo é tentar entender o que cada variável/coluna representa de informação e se ela é útil para nós ou não."
   ]
  },
  {
   "cell_type": "code",
   "execution_count": 5,
   "metadata": {},
   "outputs": [
    {
     "data": {
      "text/plain": [
       "(10777, 43)"
      ]
     },
     "execution_count": 5,
     "metadata": {},
     "output_type": "execute_result"
    }
   ],
   "source": [
    "df.shape"
   ]
  },
  {
   "cell_type": "markdown",
   "metadata": {},
   "source": [
    "Felipe Bormann: A principal coluna com certeza é a coluna \"text\", apesar de possuir alguns tweets repetidos, o que infelizmente reduz nossa amostra de 10777 tweets para 10650. Eu ainda não chequei o que faz os tweets serem diferentes em si mas os removi por preocaução no primeiro momento."
   ]
  },
  {
   "cell_type": "code",
   "execution_count": 6,
   "metadata": {},
   "outputs": [
    {
     "data": {
      "text/plain": [
       "0        These girls are the equivalent of the irritati...\n",
       "1        Drasko they didn't cook half a bird you idiot ...\n",
       "2        Drasko they didn't cook half a bird you idiot ...\n",
       "3        Drasko they didn't cook half a bird you idiot ...\n",
       "4        Drasko they didn't cook half a bird you idiot ...\n",
       "                               ...                        \n",
       "10773    Ok, so #gameloading was awesome and I hope I c...\n",
       "10774                     @informationchef @dannyo152 ❤️❤️\n",
       "10775                                 @BenKuchera ❤️❤️❤️❤️\n",
       "10776        If I ever do get scared, you'll never know. 😘\n",
       "10777                      \"@panelrific: Let's go 🐧🐧🐧🐧🐧🐧😃\"\n",
       "Name: text, Length: 10777, dtype: object"
      ]
     },
     "execution_count": 6,
     "metadata": {},
     "output_type": "execute_result"
    }
   ],
   "source": [
    "df[\"text\"]"
   ]
  },
  {
   "cell_type": "code",
   "execution_count": 7,
   "metadata": {},
   "outputs": [
    {
     "data": {
      "text/plain": [
       "10630"
      ]
     },
     "execution_count": 7,
     "metadata": {},
     "output_type": "execute_result"
    }
   ],
   "source": [
    "df[\"text\"].drop_duplicates().size"
   ]
  },
  {
   "cell_type": "code",
   "execution_count": 8,
   "metadata": {
    "scrolled": false
   },
   "outputs": [
    {
     "data": {
      "text/plain": [
       "Index(['param_defaults', 'contributors', 'coordinates', 'created_at',\n",
       "       'current_user_retweet', 'favorite_count', 'favorited', 'full_text',\n",
       "       'geo', 'hashtags', 'id', 'id_str', 'in_reply_to_screen_name',\n",
       "       'in_reply_to_status_id', 'in_reply_to_user_id', 'lang', 'location',\n",
       "       'media', 'place', 'possibly_sensitive', 'quoted_status',\n",
       "       'quoted_status_id', 'quoted_status_id_str', 'retweet_count',\n",
       "       'retweeted', 'retweeted_status', 'scopes', 'source', 'text',\n",
       "       'truncated', 'urls', 'user', 'user_mentions', 'withheld_copyright',\n",
       "       'withheld_in_countries', 'withheld_scope', 'tweet_mode', '_json',\n",
       "       'tweet_id', 'label', 'Unnamed: 41', 'Unnamed: 42', 'Unnamed: 43'],\n",
       "      dtype='object')"
      ]
     },
     "execution_count": 8,
     "metadata": {},
     "output_type": "execute_result"
    }
   ],
   "source": [
    "df.columns"
   ]
  },
  {
   "cell_type": "markdown",
   "metadata": {},
   "source": [
    "Felipe Bormann: Duas colunas que eu acho que podem gerar features interessantes é saber se aquele tweet foi em respostas à um usuário ou algum tweet específico. (eu ainda não sei a diferença entre os dois campos mas eles possuem quantidades diferentes, como mostrado abaixo)."
   ]
  },
  {
   "cell_type": "code",
   "execution_count": 9,
   "metadata": {
    "scrolled": true
   },
   "outputs": [
    {
     "data": {
      "text/plain": [
       "3936"
      ]
     },
     "execution_count": 9,
     "metadata": {},
     "output_type": "execute_result"
    }
   ],
   "source": [
    "df[\"in_reply_to_status_id\"].notnull().sum()"
   ]
  },
  {
   "cell_type": "code",
   "execution_count": 10,
   "metadata": {
    "scrolled": true
   },
   "outputs": [
    {
     "data": {
      "text/plain": [
       "4083"
      ]
     },
     "execution_count": 10,
     "metadata": {},
     "output_type": "execute_result"
    }
   ],
   "source": [
    "df[\"in_reply_to_user_id\"].notnull().sum()"
   ]
  },
  {
   "cell_type": "markdown",
   "metadata": {},
   "source": [
    "Analisando a distribuição de usuários.\n",
    "Limpeza: três usuários são nulos, estes nós vamos remover da base também."
   ]
  },
  {
   "cell_type": "code",
   "execution_count": 11,
   "metadata": {},
   "outputs": [],
   "source": [
    "import json\n",
    "import numpy as np"
   ]
  },
  {
   "cell_type": "code",
   "execution_count": 12,
   "metadata": {
    "scrolled": true
   },
   "outputs": [
    {
     "data": {
      "text/html": [
       "<div>\n",
       "<style scoped>\n",
       "    .dataframe tbody tr th:only-of-type {\n",
       "        vertical-align: middle;\n",
       "    }\n",
       "\n",
       "    .dataframe tbody tr th {\n",
       "        vertical-align: top;\n",
       "    }\n",
       "\n",
       "    .dataframe thead th {\n",
       "        text-align: right;\n",
       "    }\n",
       "</style>\n",
       "<table border=\"1\" class=\"dataframe\">\n",
       "  <thead>\n",
       "    <tr style=\"text-align: right;\">\n",
       "      <th></th>\n",
       "      <th>param_defaults</th>\n",
       "      <th>contributors</th>\n",
       "      <th>coordinates</th>\n",
       "      <th>created_at</th>\n",
       "      <th>current_user_retweet</th>\n",
       "      <th>favorite_count</th>\n",
       "      <th>favorited</th>\n",
       "      <th>full_text</th>\n",
       "      <th>geo</th>\n",
       "      <th>hashtags</th>\n",
       "      <th>...</th>\n",
       "      <th>withheld_copyright</th>\n",
       "      <th>withheld_in_countries</th>\n",
       "      <th>withheld_scope</th>\n",
       "      <th>tweet_mode</th>\n",
       "      <th>_json</th>\n",
       "      <th>tweet_id</th>\n",
       "      <th>label</th>\n",
       "      <th>Unnamed: 41</th>\n",
       "      <th>Unnamed: 42</th>\n",
       "      <th>Unnamed: 43</th>\n",
       "    </tr>\n",
       "  </thead>\n",
       "  <tbody>\n",
       "  </tbody>\n",
       "</table>\n",
       "<p>0 rows × 43 columns</p>\n",
       "</div>"
      ],
      "text/plain": [
       "Empty DataFrame\n",
       "Columns: [param_defaults, contributors, coordinates, created_at, current_user_retweet, favorite_count, favorited, full_text, geo, hashtags, id, id_str, in_reply_to_screen_name, in_reply_to_status_id, in_reply_to_user_id, lang, location, media, place, possibly_sensitive, quoted_status, quoted_status_id, quoted_status_id_str, retweet_count, retweeted, retweeted_status, scopes, source, text, truncated, urls, user, user_mentions, withheld_copyright, withheld_in_countries, withheld_scope, tweet_mode, _json, tweet_id, label, Unnamed: 41, Unnamed: 42, Unnamed: 43]\n",
       "Index: []\n",
       "\n",
       "[0 rows x 43 columns]"
      ]
     },
     "execution_count": 12,
     "metadata": {},
     "output_type": "execute_result"
    }
   ],
   "source": [
    "df[df[\"user\"].isnull()]"
   ]
  },
  {
   "cell_type": "code",
   "execution_count": 13,
   "metadata": {},
   "outputs": [],
   "source": [
    "def is_json(myjson):\n",
    "  try:\n",
    "    json_object = json.loads(myjson)\n",
    "  except ValueError as e:\n",
    "    return False\n",
    "  return True"
   ]
  },
  {
   "cell_type": "code",
   "execution_count": 14,
   "metadata": {},
   "outputs": [],
   "source": [
    "# removendo os usuários nulos da base\n",
    "df = df[(~df[\"user\"].isnull()) & (df[\"user\"].apply(lambda user: is_json(user)))]"
   ]
  },
  {
   "cell_type": "code",
   "execution_count": 15,
   "metadata": {},
   "outputs": [
    {
     "data": {
      "text/plain": [
       "0        {\"created_at\": \"Thu Jul 03 11:27:16 +0000 2014...\n",
       "1        {\"created_at\": \"Sun Jan 31 11:35:37 +0000 2010...\n",
       "2        {\"created_at\": \"Sun Jan 31 11:35:37 +0000 2010...\n",
       "3        {\"created_at\": \"Sun Jan 31 11:35:37 +0000 2010...\n",
       "4        {\"created_at\": \"Sun Jan 31 11:35:37 +0000 2010...\n",
       "                               ...                        \n",
       "10773    {\"created_at\": \"Sat Feb 23 07:27:19 +0000 2008...\n",
       "10774    {\"created_at\": \"Sat Feb 23 07:27:19 +0000 2008...\n",
       "10775    {\"created_at\": \"Sat Feb 23 07:27:19 +0000 2008...\n",
       "10776    {\"created_at\": \"Sat Feb 23 07:27:19 +0000 2008...\n",
       "10777    {\"created_at\": \"Fri Aug 22 23:28:35 +0000 2014...\n",
       "Name: user, Length: 10703, dtype: object"
      ]
     },
     "execution_count": 15,
     "metadata": {},
     "output_type": "execute_result"
    }
   ],
   "source": [
    "df[\"user\"]"
   ]
  },
  {
   "cell_type": "code",
   "execution_count": 16,
   "metadata": {},
   "outputs": [
    {
     "data": {
      "text/plain": [
       "(10703, 43)"
      ]
     },
     "execution_count": 16,
     "metadata": {},
     "output_type": "execute_result"
    }
   ],
   "source": [
    "df.shape"
   ]
  },
  {
   "cell_type": "code",
   "execution_count": 17,
   "metadata": {
    "scrolled": true
   },
   "outputs": [
    {
     "data": {
      "text/plain": [
       "0        {'created_at': 'Thu Jul 03 11:27:16 +0000 2014...\n",
       "1        {'created_at': 'Sun Jan 31 11:35:37 +0000 2010...\n",
       "2        {'created_at': 'Sun Jan 31 11:35:37 +0000 2010...\n",
       "3        {'created_at': 'Sun Jan 31 11:35:37 +0000 2010...\n",
       "4        {'created_at': 'Sun Jan 31 11:35:37 +0000 2010...\n",
       "                               ...                        \n",
       "10773    {'created_at': 'Sat Feb 23 07:27:19 +0000 2008...\n",
       "10774    {'created_at': 'Sat Feb 23 07:27:19 +0000 2008...\n",
       "10775    {'created_at': 'Sat Feb 23 07:27:19 +0000 2008...\n",
       "10776    {'created_at': 'Sat Feb 23 07:27:19 +0000 2008...\n",
       "10777    {'created_at': 'Fri Aug 22 23:28:35 +0000 2014...\n",
       "Name: user, Length: 10703, dtype: object"
      ]
     },
     "execution_count": 17,
     "metadata": {},
     "output_type": "execute_result"
    }
   ],
   "source": [
    "df[\"user\"].apply(lambda user_data: json.loads(user_data) if user_data is not None else None)"
   ]
  },
  {
   "cell_type": "code",
   "execution_count": 18,
   "metadata": {},
   "outputs": [
    {
     "data": {
      "text/plain": [
       "'{\"created_at\": \"Thu Jul 03 11:27:16 +0000 2014\", \"description\": \"I write books https://t.co/HhlLFE07RL ,Cancer Survivor, chat politics, women issues, social justice, artist, music, movie buff, RT not nec endorsemt\", \"favourites_count\": 27951, \"followers_count\": 2168, \"friends_count\": 2184, \"id\": 2601524623, \"id_str\": \"2601524623\", \"listed_count\": 85, \"location\": \"Victoria Australia\", \"name\": \"CreatetheWorldYouWant\", \"profile_background_color\": \"BADFCD\", \"profile_background_image_url\": \"http://abs.twimg.com/images/themes/theme12/bg.gif\", \"profile_background_image_url_https\": \"https://abs.twimg.com/images/themes/theme12/bg.gif\", \"profile_background_tile\": true, \"profile_banner_url\": \"https://pbs.twimg.com/profile_banners/2601524623/1418679518\", \"profile_image_url\": \"http://pbs.twimg.com/profile_images/672163598970433536/qubocyRk_normal.jpg\", \"profile_image_url_https\": \"https://pbs.twimg.com/profile_images/672163598970433536/qubocyRk_normal.jpg\", \"profile_link_color\": \"3B94D9\", \"profile_sidebar_border_color\": \"000000\", \"profile_sidebar_fill_color\": \"FFF7CC\", \"profile_text_color\": \"0C3E53\", \"profile_use_background_image\": true, \"screen_name\": \"JL_Whitaker\", \"statuses_count\": 76647, \"url\": \"http://t.co/ZLC2pgfiKe\"}'"
      ]
     },
     "execution_count": 18,
     "metadata": {},
     "output_type": "execute_result"
    }
   ],
   "source": [
    "df[\"user\"][0]"
   ]
  },
  {
   "cell_type": "code",
   "execution_count": 19,
   "metadata": {
    "scrolled": false
   },
   "outputs": [],
   "source": [
    "df[\"user_id\"] = df[\"user\"].apply(lambda user_data: str(json.loads(user_data)[\"id\"]) if isinstance(json.loads(user_data),dict) else None)"
   ]
  },
  {
   "cell_type": "code",
   "execution_count": 20,
   "metadata": {},
   "outputs": [
    {
     "data": {
      "text/plain": [
       "param_defaults              object\n",
       "contributors               float64\n",
       "coordinates                 object\n",
       "created_at                  object\n",
       "current_user_retweet       float64\n",
       "favorite_count               int64\n",
       "favorited                     bool\n",
       "full_text                  float64\n",
       "geo                         object\n",
       "hashtags                    object\n",
       "id                          object\n",
       "id_str                      object\n",
       "in_reply_to_screen_name     object\n",
       "in_reply_to_status_id      float64\n",
       "in_reply_to_user_id        float64\n",
       "lang                        object\n",
       "location                   float64\n",
       "media                       object\n",
       "place                       object\n",
       "possibly_sensitive          object\n",
       "quoted_status               object\n",
       "quoted_status_id           float64\n",
       "quoted_status_id_str        object\n",
       "retweet_count                int64\n",
       "retweeted                     bool\n",
       "retweeted_status            object\n",
       "scopes                     float64\n",
       "source                      object\n",
       "text                        object\n",
       "truncated                   object\n",
       "urls                        object\n",
       "user                        object\n",
       "user_mentions               object\n",
       "withheld_copyright          object\n",
       "withheld_in_countries       object\n",
       "withheld_scope              object\n",
       "tweet_mode                  object\n",
       "_json                       object\n",
       "tweet_id                    object\n",
       "label                       object\n",
       "Unnamed: 41                 object\n",
       "Unnamed: 42                 object\n",
       "Unnamed: 43                 object\n",
       "user_id                     object\n",
       "dtype: object"
      ]
     },
     "execution_count": 20,
     "metadata": {},
     "output_type": "execute_result"
    }
   ],
   "source": [
    "df.dtypes"
   ]
  },
  {
   "cell_type": "markdown",
   "metadata": {},
   "source": [
    "Um fato importante do dataset, é que só temos 1561 usuários, ou seja, em média 4 tweets por usuário. Mas vou checar a distribuição de tweets por cada um."
   ]
  },
  {
   "cell_type": "code",
   "execution_count": 21,
   "metadata": {
    "scrolled": true
   },
   "outputs": [
    {
     "data": {
      "text/plain": [
       "1500"
      ]
     },
     "execution_count": 21,
     "metadata": {},
     "output_type": "execute_result"
    }
   ],
   "source": [
    "df[\"user_id\"].unique().size"
   ]
  },
  {
   "cell_type": "markdown",
   "metadata": {},
   "source": [
    "## Removendo usuários com muitos mais tweets que os outros"
   ]
  },
  {
   "cell_type": "code",
   "execution_count": 22,
   "metadata": {},
   "outputs": [],
   "source": [
    "users_tweet_count_df = df.groupby(\"user_id\").count()[\"tweet_id\"].reset_index()\n",
    "users_tweet_count_df = users_tweet_count_df.rename(columns={\"tweet_id\": \"tweet_amount\"})"
   ]
  },
  {
   "cell_type": "code",
   "execution_count": 23,
   "metadata": {},
   "outputs": [
    {
     "data": {
      "text/html": [
       "<div>\n",
       "<style scoped>\n",
       "    .dataframe tbody tr th:only-of-type {\n",
       "        vertical-align: middle;\n",
       "    }\n",
       "\n",
       "    .dataframe tbody tr th {\n",
       "        vertical-align: top;\n",
       "    }\n",
       "\n",
       "    .dataframe thead th {\n",
       "        text-align: right;\n",
       "    }\n",
       "</style>\n",
       "<table border=\"1\" class=\"dataframe\">\n",
       "  <thead>\n",
       "    <tr style=\"text-align: right;\">\n",
       "      <th></th>\n",
       "      <th>user_id</th>\n",
       "      <th>tweet_amount</th>\n",
       "    </tr>\n",
       "  </thead>\n",
       "  <tbody>\n",
       "    <tr>\n",
       "      <th>0</th>\n",
       "      <td>1000801513</td>\n",
       "      <td>1</td>\n",
       "    </tr>\n",
       "    <tr>\n",
       "      <th>1</th>\n",
       "      <td>1005637784</td>\n",
       "      <td>1</td>\n",
       "    </tr>\n",
       "    <tr>\n",
       "      <th>2</th>\n",
       "      <td>100658892</td>\n",
       "      <td>2</td>\n",
       "    </tr>\n",
       "    <tr>\n",
       "      <th>3</th>\n",
       "      <td>1008161004</td>\n",
       "      <td>1</td>\n",
       "    </tr>\n",
       "    <tr>\n",
       "      <th>4</th>\n",
       "      <td>1010956802</td>\n",
       "      <td>1</td>\n",
       "    </tr>\n",
       "    <tr>\n",
       "      <th>...</th>\n",
       "      <td>...</td>\n",
       "      <td>...</td>\n",
       "    </tr>\n",
       "    <tr>\n",
       "      <th>1494</th>\n",
       "      <td>98896743</td>\n",
       "      <td>6</td>\n",
       "    </tr>\n",
       "    <tr>\n",
       "      <th>1495</th>\n",
       "      <td>990206568</td>\n",
       "      <td>1</td>\n",
       "    </tr>\n",
       "    <tr>\n",
       "      <th>1496</th>\n",
       "      <td>990582259</td>\n",
       "      <td>1</td>\n",
       "    </tr>\n",
       "    <tr>\n",
       "      <th>1497</th>\n",
       "      <td>99233470</td>\n",
       "      <td>2</td>\n",
       "    </tr>\n",
       "    <tr>\n",
       "      <th>1498</th>\n",
       "      <td>994969160</td>\n",
       "      <td>1</td>\n",
       "    </tr>\n",
       "  </tbody>\n",
       "</table>\n",
       "<p>1499 rows × 2 columns</p>\n",
       "</div>"
      ],
      "text/plain": [
       "         user_id  tweet_amount\n",
       "0     1000801513             1\n",
       "1     1005637784             1\n",
       "2      100658892             2\n",
       "3     1008161004             1\n",
       "4     1010956802             1\n",
       "...          ...           ...\n",
       "1494    98896743             6\n",
       "1495   990206568             1\n",
       "1496   990582259             1\n",
       "1497    99233470             2\n",
       "1498   994969160             1\n",
       "\n",
       "[1499 rows x 2 columns]"
      ]
     },
     "execution_count": 23,
     "metadata": {},
     "output_type": "execute_result"
    }
   ],
   "source": [
    "users_tweet_count_df"
   ]
  },
  {
   "cell_type": "code",
   "execution_count": 24,
   "metadata": {
    "scrolled": true
   },
   "outputs": [
    {
     "data": {
      "text/html": [
       "<div>\n",
       "<style scoped>\n",
       "    .dataframe tbody tr th:only-of-type {\n",
       "        vertical-align: middle;\n",
       "    }\n",
       "\n",
       "    .dataframe tbody tr th {\n",
       "        vertical-align: top;\n",
       "    }\n",
       "\n",
       "    .dataframe thead th {\n",
       "        text-align: right;\n",
       "    }\n",
       "</style>\n",
       "<table border=\"1\" class=\"dataframe\">\n",
       "  <thead>\n",
       "    <tr style=\"text-align: right;\">\n",
       "      <th></th>\n",
       "      <th>tweet_amount</th>\n",
       "      <th>user_count</th>\n",
       "    </tr>\n",
       "  </thead>\n",
       "  <tbody>\n",
       "    <tr>\n",
       "      <th>0</th>\n",
       "      <td>1</td>\n",
       "      <td>931</td>\n",
       "    </tr>\n",
       "    <tr>\n",
       "      <th>1</th>\n",
       "      <td>2</td>\n",
       "      <td>242</td>\n",
       "    </tr>\n",
       "    <tr>\n",
       "      <th>2</th>\n",
       "      <td>3</td>\n",
       "      <td>86</td>\n",
       "    </tr>\n",
       "    <tr>\n",
       "      <th>3</th>\n",
       "      <td>4</td>\n",
       "      <td>67</td>\n",
       "    </tr>\n",
       "    <tr>\n",
       "      <th>4</th>\n",
       "      <td>5</td>\n",
       "      <td>40</td>\n",
       "    </tr>\n",
       "  </tbody>\n",
       "</table>\n",
       "</div>"
      ],
      "text/plain": [
       "   tweet_amount  user_count\n",
       "0             1         931\n",
       "1             2         242\n",
       "2             3          86\n",
       "3             4          67\n",
       "4             5          40"
      ]
     },
     "execution_count": 24,
     "metadata": {},
     "output_type": "execute_result"
    }
   ],
   "source": [
    "# tweet_id aqui poderia ficar com um nome melhor, como tweet_count\n",
    "amount_of_tweet_df = df.groupby(\"user_id\").count()[\"tweet_id\"].reset_index().groupby(\"tweet_id\").count().reset_index()\n",
    "amount_of_tweet_df = amount_of_tweet_df.rename(columns={\"tweet_id\": \"tweet_amount\", \"user_id\": \"user_count\"})\n",
    "amount_of_tweet_df.head(5)"
   ]
  },
  {
   "cell_type": "markdown",
   "metadata": {},
   "source": [
    "Só um usuário possui **3746 tweets**!"
   ]
  },
  {
   "cell_type": "code",
   "execution_count": 25,
   "metadata": {},
   "outputs": [
    {
     "data": {
      "text/plain": [
       "3600"
      ]
     },
     "execution_count": 25,
     "metadata": {},
     "output_type": "execute_result"
    }
   ],
   "source": [
    "amount_of_tweet_df[\"tweet_amount\"].max()"
   ]
  },
  {
   "cell_type": "code",
   "execution_count": 26,
   "metadata": {
    "scrolled": true
   },
   "outputs": [
    {
     "data": {
      "text/html": [
       "<div>\n",
       "<style scoped>\n",
       "    .dataframe tbody tr th:only-of-type {\n",
       "        vertical-align: middle;\n",
       "    }\n",
       "\n",
       "    .dataframe tbody tr th {\n",
       "        vertical-align: top;\n",
       "    }\n",
       "\n",
       "    .dataframe thead th {\n",
       "        text-align: right;\n",
       "    }\n",
       "</style>\n",
       "<table border=\"1\" class=\"dataframe\">\n",
       "  <thead>\n",
       "    <tr style=\"text-align: right;\">\n",
       "      <th></th>\n",
       "      <th>tweet_amount</th>\n",
       "      <th>user_count</th>\n",
       "    </tr>\n",
       "  </thead>\n",
       "  <tbody>\n",
       "    <tr>\n",
       "      <th>0</th>\n",
       "      <td>1</td>\n",
       "      <td>931</td>\n",
       "    </tr>\n",
       "    <tr>\n",
       "      <th>1</th>\n",
       "      <td>2</td>\n",
       "      <td>242</td>\n",
       "    </tr>\n",
       "    <tr>\n",
       "      <th>2</th>\n",
       "      <td>3</td>\n",
       "      <td>86</td>\n",
       "    </tr>\n",
       "    <tr>\n",
       "      <th>3</th>\n",
       "      <td>4</td>\n",
       "      <td>67</td>\n",
       "    </tr>\n",
       "    <tr>\n",
       "      <th>4</th>\n",
       "      <td>5</td>\n",
       "      <td>40</td>\n",
       "    </tr>\n",
       "    <tr>\n",
       "      <th>5</th>\n",
       "      <td>6</td>\n",
       "      <td>16</td>\n",
       "    </tr>\n",
       "    <tr>\n",
       "      <th>6</th>\n",
       "      <td>7</td>\n",
       "      <td>15</td>\n",
       "    </tr>\n",
       "    <tr>\n",
       "      <th>7</th>\n",
       "      <td>8</td>\n",
       "      <td>17</td>\n",
       "    </tr>\n",
       "    <tr>\n",
       "      <th>8</th>\n",
       "      <td>9</td>\n",
       "      <td>12</td>\n",
       "    </tr>\n",
       "    <tr>\n",
       "      <th>9</th>\n",
       "      <td>10</td>\n",
       "      <td>13</td>\n",
       "    </tr>\n",
       "    <tr>\n",
       "      <th>10</th>\n",
       "      <td>11</td>\n",
       "      <td>8</td>\n",
       "    </tr>\n",
       "    <tr>\n",
       "      <th>11</th>\n",
       "      <td>12</td>\n",
       "      <td>5</td>\n",
       "    </tr>\n",
       "    <tr>\n",
       "      <th>12</th>\n",
       "      <td>13</td>\n",
       "      <td>10</td>\n",
       "    </tr>\n",
       "    <tr>\n",
       "      <th>13</th>\n",
       "      <td>14</td>\n",
       "      <td>6</td>\n",
       "    </tr>\n",
       "    <tr>\n",
       "      <th>14</th>\n",
       "      <td>15</td>\n",
       "      <td>2</td>\n",
       "    </tr>\n",
       "    <tr>\n",
       "      <th>15</th>\n",
       "      <td>16</td>\n",
       "      <td>4</td>\n",
       "    </tr>\n",
       "    <tr>\n",
       "      <th>16</th>\n",
       "      <td>18</td>\n",
       "      <td>2</td>\n",
       "    </tr>\n",
       "    <tr>\n",
       "      <th>17</th>\n",
       "      <td>19</td>\n",
       "      <td>4</td>\n",
       "    </tr>\n",
       "    <tr>\n",
       "      <th>18</th>\n",
       "      <td>21</td>\n",
       "      <td>4</td>\n",
       "    </tr>\n",
       "    <tr>\n",
       "      <th>19</th>\n",
       "      <td>22</td>\n",
       "      <td>2</td>\n",
       "    </tr>\n",
       "    <tr>\n",
       "      <th>20</th>\n",
       "      <td>23</td>\n",
       "      <td>2</td>\n",
       "    </tr>\n",
       "    <tr>\n",
       "      <th>21</th>\n",
       "      <td>25</td>\n",
       "      <td>1</td>\n",
       "    </tr>\n",
       "    <tr>\n",
       "      <th>22</th>\n",
       "      <td>26</td>\n",
       "      <td>1</td>\n",
       "    </tr>\n",
       "    <tr>\n",
       "      <th>23</th>\n",
       "      <td>27</td>\n",
       "      <td>1</td>\n",
       "    </tr>\n",
       "    <tr>\n",
       "      <th>24</th>\n",
       "      <td>30</td>\n",
       "      <td>1</td>\n",
       "    </tr>\n",
       "    <tr>\n",
       "      <th>25</th>\n",
       "      <td>32</td>\n",
       "      <td>2</td>\n",
       "    </tr>\n",
       "    <tr>\n",
       "      <th>26</th>\n",
       "      <td>33</td>\n",
       "      <td>1</td>\n",
       "    </tr>\n",
       "    <tr>\n",
       "      <th>27</th>\n",
       "      <td>38</td>\n",
       "      <td>1</td>\n",
       "    </tr>\n",
       "    <tr>\n",
       "      <th>28</th>\n",
       "      <td>953</td>\n",
       "      <td>1</td>\n",
       "    </tr>\n",
       "    <tr>\n",
       "      <th>29</th>\n",
       "      <td>2121</td>\n",
       "      <td>1</td>\n",
       "    </tr>\n",
       "    <tr>\n",
       "      <th>30</th>\n",
       "      <td>3600</td>\n",
       "      <td>1</td>\n",
       "    </tr>\n",
       "  </tbody>\n",
       "</table>\n",
       "</div>"
      ],
      "text/plain": [
       "    tweet_amount  user_count\n",
       "0              1         931\n",
       "1              2         242\n",
       "2              3          86\n",
       "3              4          67\n",
       "4              5          40\n",
       "5              6          16\n",
       "6              7          15\n",
       "7              8          17\n",
       "8              9          12\n",
       "9             10          13\n",
       "10            11           8\n",
       "11            12           5\n",
       "12            13          10\n",
       "13            14           6\n",
       "14            15           2\n",
       "15            16           4\n",
       "16            18           2\n",
       "17            19           4\n",
       "18            21           4\n",
       "19            22           2\n",
       "20            23           2\n",
       "21            25           1\n",
       "22            26           1\n",
       "23            27           1\n",
       "24            30           1\n",
       "25            32           2\n",
       "26            33           1\n",
       "27            38           1\n",
       "28           953           1\n",
       "29          2121           1\n",
       "30          3600           1"
      ]
     },
     "execution_count": 26,
     "metadata": {},
     "output_type": "execute_result"
    }
   ],
   "source": [
    "amount_of_tweet_df.head(50)"
   ]
  },
  {
   "cell_type": "code",
   "execution_count": 27,
   "metadata": {},
   "outputs": [],
   "source": [
    "z_scores = zscore(amount_of_tweet_df[[\"tweet_amount\"]])\n",
    "\n",
    "abs_z_scores = np.abs(z_scores)\n",
    "filtered_entries = (abs_z_scores < 0.5).all(axis=1)\n",
    "#new_df = df[filtered_entries]"
   ]
  },
  {
   "cell_type": "code",
   "execution_count": 28,
   "metadata": {},
   "outputs": [],
   "source": [
    "amount_of_tweet_df = amount_of_tweet_df[filtered_entries]"
   ]
  },
  {
   "cell_type": "markdown",
   "metadata": {},
   "source": [
    "Um grande quantidade de usuários só tweetou 1x, isso é bom, porque ai tem um bom sample de pessoas diferentes, contudo, essa concentração em um usuário só é bem complicado. Vou checar se há uma grande quantidade de elementos da label positiva neste usuário."
   ]
  },
  {
   "cell_type": "code",
   "execution_count": 29,
   "metadata": {
    "scrolled": false
   },
   "outputs": [
    {
     "data": {
      "image/png": "[encoded data removed]",
      "text/plain": [
       "<Figure size 432x288 with 1 Axes>"
      ]
     },
     "metadata": {
      "needs_background": "light"
     },
     "output_type": "display_data"
    }
   ],
   "source": [
    "plt.hist(amount_of_tweet_df[\"tweet_amount\"], 10, weights=amount_of_tweet_df[\"user_count\"])\n",
    "plt.show()"
   ]
  },
  {
   "cell_type": "markdown",
   "metadata": {},
   "source": [
    "Iremos remover os usuários que possuem acima de 40 tweets, como mostra o gráfico assim, são aqueles onde os usuários que os criaram não possuem um z_score maior que 0.5."
   ]
  },
  {
   "cell_type": "code",
   "execution_count": 30,
   "metadata": {},
   "outputs": [],
   "source": [
    "# coletando somente os user_ids com menos de 40 tweets\n",
    "users_tweet_count_df = users_tweet_count_df.loc[users_tweet_count_df[\"tweet_amount\"] <= 40]\n",
    "df = pd.merge(df, users_tweet_count_df, on=\"user_id\")"
   ]
  },
  {
   "cell_type": "code",
   "execution_count": 31,
   "metadata": {
    "scrolled": true
   },
   "outputs": [
    {
     "data": {
      "text/plain": [
       "(3701, 45)"
      ]
     },
     "execution_count": 31,
     "metadata": {},
     "output_type": "execute_result"
    }
   ],
   "source": [
    "df.shape"
   ]
  },
  {
   "cell_type": "markdown",
   "metadata": {},
   "source": [
    "Como dar pra ver, só removemos 4 usuários da base, ou seja, eles dominavam a maior partes do tweets, o que poderia enviezar o modelo para a forma que eles escreviam"
   ]
  },
  {
   "cell_type": "code",
   "execution_count": 32,
   "metadata": {},
   "outputs": [
    {
     "data": {
      "text/plain": [
       "1496"
      ]
     },
     "execution_count": 32,
     "metadata": {},
     "output_type": "execute_result"
    }
   ],
   "source": [
    "df[\"user_id\"].unique().size"
   ]
  },
  {
   "cell_type": "markdown",
   "metadata": {},
   "source": [
    "## Remover tweets em que não temos o texto"
   ]
  },
  {
   "cell_type": "code",
   "execution_count": 33,
   "metadata": {
    "scrolled": false
   },
   "outputs": [
    {
     "data": {
      "text/plain": [
       "0       These girls are the equivalent of the irritati...\n",
       "1                     Who is writing the bimbolines? #mkr\n",
       "2       Colin will save them. They're pretty blondes, ...\n",
       "3        Which will end first: #mkr or Tony Abbott as PM?\n",
       "4       RT @TheAngelaOfOz: That's bullshit Colin and y...\n",
       "                              ...                        \n",
       "3696    Ready to run playing as mkr background music 😍...\n",
       "3697            The Lorax has the same doorbell as #MKR 😅\n",
       "3698                Pancakes are looking delicious #mkr 😋\n",
       "3699    Pete Evans writes a paleo book for babies and ...\n",
       "3700    RT @tahliaandfamily: Ready to run playing as m...\n",
       "Name: text, Length: 3701, dtype: object"
      ]
     },
     "execution_count": 33,
     "metadata": {},
     "output_type": "execute_result"
    }
   ],
   "source": [
    "df[df[\"text\"].notnull()][\"text\"]"
   ]
  },
  {
   "cell_type": "markdown",
   "metadata": {},
   "source": [
    "# Analisando tweets sem ódio"
   ]
  },
  {
   "cell_type": "code",
   "execution_count": 39,
   "metadata": {},
   "outputs": [],
   "source": [
    "label_none_df = df[df[\"label\"] == \"none\"]"
   ]
  },
  {
   "cell_type": "markdown",
   "metadata": {},
   "source": [
    "# Analisando tweets com discurso de ódio"
   ]
  },
  {
   "cell_type": "code",
   "execution_count": 40,
   "metadata": {},
   "outputs": [],
   "source": [
    "hate_df = df[df[\"label\"] != \"none\"]"
   ]
  },
  {
   "cell_type": "code",
   "execution_count": 41,
   "metadata": {},
   "outputs": [
    {
     "data": {
      "text/plain": [
       "(733, 45)"
      ]
     },
     "execution_count": 41,
     "metadata": {},
     "output_type": "execute_result"
    }
   ],
   "source": [
    "hate_df.shape"
   ]
  },
  {
   "cell_type": "code",
   "execution_count": 42,
   "metadata": {},
   "outputs": [
    {
     "data": {
      "text/plain": [
       "0       These girls are the equivalent of the irritati...\n",
       "1                     Who is writing the bimbolines? #mkr\n",
       "2       Colin will save them. They're pretty blondes, ...\n",
       "5       Drasko they didn't cook half a bird you idiot ...\n",
       "7       Drasko they didn't cook half a bird you idiot ...\n",
       "                              ...                        \n",
       "2010                              Celine fuck off. 🔫 #mkr\n",
       "2014    REALLY wish it were bitch face and her husband...\n",
       "2015    “@IvanTrba: At least the #promogirls might hav...\n",
       "2025    “@jaccidental: Krazy-eyes Kat needs a kick in ...\n",
       "2069    Funny how Kat thinks that everyone is loving h...\n",
       "Name: text, Length: 733, dtype: object"
      ]
     },
     "execution_count": 42,
     "metadata": {},
     "output_type": "execute_result"
    }
   ],
   "source": [
    "hate_df[\"text\"]"
   ]
  },
  {
   "cell_type": "code",
   "execution_count": 43,
   "metadata": {
    "scrolled": true
   },
   "outputs": [
    {
     "data": {
      "text/plain": [
       "[('#MKR', 359),\n",
       " ('#mkr', 334),\n",
       " ('the', 279),\n",
       " ('a', 225),\n",
       " ('Kat', 169),\n",
       " ('and', 161),\n",
       " ('to', 159),\n",
       " ('I', 154),\n",
       " ('is', 138),\n",
       " ('of', 113),\n",
       " ('you', 107),\n",
       " ('RT', 93),\n",
       " ('are', 88),\n",
       " ('that', 87),\n",
       " ('in', 85),\n",
       " ('they', 73),\n",
       " ('on', 73),\n",
       " ('girls', 64),\n",
       " ('for', 60),\n",
       " ('be', 57),\n",
       " ('not', 57),\n",
       " ('just', 52),\n",
       " ('her', 52),\n",
       " ('like', 46),\n",
       " ('think', 44),\n",
       " ('have', 40),\n",
       " ('it', 36),\n",
       " ('as', 35),\n",
       " ('@mykitchenrules', 35),\n",
       " ('so', 35),\n",
       " ('with', 34),\n",
       " ('#MKR2015', 34),\n",
       " ('The', 34),\n",
       " ('these', 32),\n",
       " ('she', 32),\n",
       " ('get', 32),\n",
       " ('-', 31),\n",
       " ('was', 31),\n",
       " ('has', 31),\n",
       " ('but', 30),\n",
       " ('at', 29),\n",
       " ('your', 29),\n",
       " ('all', 28),\n",
       " ('can', 28),\n",
       " ('Andre', 28),\n",
       " ('pretty', 27),\n",
       " ('from', 27),\n",
       " ('will', 26),\n",
       " ('face', 26),\n",
       " ('up', 26),\n",
       " ('this', 26),\n",
       " ('want', 26),\n",
       " ('out', 26),\n",
       " ('bitch', 25),\n",
       " ('off', 23),\n",
       " ('my', 23),\n",
       " ('blonde', 23),\n",
       " ('Katie', 23),\n",
       " ('blondes', 22),\n",
       " ('were', 22),\n",
       " ('one', 22),\n",
       " (\"I'm\", 22),\n",
       " ('if', 22),\n",
       " ('still', 22),\n",
       " ('go', 21),\n",
       " ('more', 21),\n",
       " ('their', 21),\n",
       " ('two', 21),\n",
       " ('promo', 20),\n",
       " ('by', 20),\n",
       " ('hot', 20),\n",
       " ('Nikki', 20),\n",
       " ('those', 20),\n",
       " ('If', 20),\n",
       " ('#mkr2015', 20),\n",
       " ('would', 19),\n",
       " ('being', 19),\n",
       " ('#killerblondes', 19),\n",
       " ('Annie', 19),\n",
       " ('no', 19),\n",
       " (\"don't\", 19),\n",
       " ('we', 19),\n",
       " ('These', 18),\n",
       " ('see', 18),\n",
       " ('Oh', 18),\n",
       " (\"can't\", 17),\n",
       " ('know', 17),\n",
       " ('or', 17),\n",
       " ('&amp;', 17),\n",
       " (\"didn't\", 16),\n",
       " ('had', 16),\n",
       " ('about', 16),\n",
       " ('me', 16),\n",
       " ('make', 16),\n",
       " ('back', 16),\n",
       " ('should', 16),\n",
       " ('Kat,', 16),\n",
       " ('even', 16),\n",
       " ('what', 16),\n",
       " ('#cuntandandre', 16)]"
      ]
     },
     "execution_count": 43,
     "metadata": {},
     "output_type": "execute_result"
    }
   ],
   "source": [
    "from collections import Counter\n",
    "\n",
    "Counter(\" \".join(hate_df[\"text\"]).split()).most_common(100)"
   ]
  },
  {
   "cell_type": "markdown",
   "metadata": {
    "scrolled": true
   },
   "source": [
    "Como dá pra ver várias das palavras mais comuns são stopwords, então por isso, vou retirar as stopwords dos textos para ver o que de fato sobra e é relevante para identificar um hate speech."
   ]
  },
  {
   "cell_type": "code",
   "execution_count": 58,
   "metadata": {},
   "outputs": [
    {
     "name": "stderr",
     "output_type": "stream",
     "text": [
      "<ipython-input-58-a32237339c16>:1: SettingWithCopyWarning: \n",
      "A value is trying to be set on a copy of a slice from a DataFrame.\n",
      "Try using .loc[row_indexer,col_indexer] = value instead\n",
      "\n",
      "See the caveats in the documentation: https://pandas.pydata.org/pandas-docs/stable/user_guide/indexing.html#returning-a-view-versus-a-copy\n",
      "  hate_df[\"text_without_stopwords\"] = hate_df['text'].apply(lambda x: \" \".join([item for item in x.split() if item not in stop]))\n"
     ]
    }
   ],
   "source": [
    "hate_df[\"text_without_stopwords\"] = hate_df['text'].apply(lambda x: \" \".join([item for item in x.split() if item not in stop]))"
   ]
  },
  {
   "cell_type": "code",
   "execution_count": 59,
   "metadata": {},
   "outputs": [
    {
     "data": {
      "text/plain": [
       "0       These girls equivalent irritating Asian girls ...\n",
       "1                            Who writing bimbolines? #mkr\n",
       "2       Colin save them. They're pretty blondes, keep ...\n",
       "5                        Drasko cook half bird idiot #mkr\n",
       "7                        Drasko cook half bird idiot #mkr\n",
       "                              ...                        \n",
       "2010                              Celine fuck off. 🔫 #mkr\n",
       "2014    REALLY wish bitch face husband sudden death 😡 ...\n",
       "2015    “@IvanTrba: At least #promogirls might future ...\n",
       "2025    “@jaccidental: Krazy-eyes Kat needs kick ku......\n",
       "2069    Funny Kat thinks everyone loving dish people t...\n",
       "Name: text_without_stopwords, Length: 733, dtype: object"
      ]
     },
     "execution_count": 59,
     "metadata": {},
     "output_type": "execute_result"
    }
   ],
   "source": [
    "hate_df[\"text_without_stopwords\"]"
   ]
  },
  {
   "cell_type": "code",
   "execution_count": 60,
   "metadata": {},
   "outputs": [
    {
     "data": {
      "text/plain": [
       "[('#MKR', 359),\n",
       " ('#mkr', 334),\n",
       " ('Kat', 169),\n",
       " ('I', 154),\n",
       " ('RT', 93),\n",
       " ('girls', 64),\n",
       " ('like', 46),\n",
       " ('think', 44),\n",
       " ('@mykitchenrules', 35),\n",
       " ('#MKR2015', 34),\n",
       " ('The', 34),\n",
       " ('get', 32),\n",
       " ('-', 31),\n",
       " ('Andre', 28),\n",
       " ('pretty', 27),\n",
       " ('face', 26),\n",
       " ('want', 26),\n",
       " ('bitch', 25),\n",
       " ('blonde', 23),\n",
       " ('Katie', 23),\n",
       " ('blondes', 22),\n",
       " ('one', 22),\n",
       " (\"I'm\", 22),\n",
       " ('still', 22),\n",
       " ('go', 21),\n",
       " ('two', 21),\n",
       " ('promo', 20),\n",
       " ('hot', 20),\n",
       " ('Nikki', 20),\n",
       " ('If', 20),\n",
       " ('#mkr2015', 20),\n",
       " ('would', 19),\n",
       " ('#killerblondes', 19),\n",
       " ('Annie', 19),\n",
       " ('These', 18),\n",
       " ('see', 18),\n",
       " ('Oh', 18),\n",
       " (\"can't\", 17),\n",
       " ('know', 17),\n",
       " ('&amp;', 17),\n",
       " ('make', 16),\n",
       " ('back', 16),\n",
       " ('Kat,', 16),\n",
       " ('even', 16),\n",
       " ('#cuntandandre', 16),\n",
       " ('dumb', 15),\n",
       " ('going', 15),\n",
       " ('hope', 15),\n",
       " ('cook', 14),\n",
       " ('u', 14),\n",
       " ('So', 14),\n",
       " ('better', 14),\n",
       " ('really', 14),\n",
       " ('right', 14),\n",
       " (\"Kat's\", 14),\n",
       " ('kat', 14),\n",
       " ('fucking', 13),\n",
       " ('looks', 13),\n",
       " ('.', 13),\n",
       " ('look', 13),\n",
       " ('And', 13),\n",
       " ('cooking', 12),\n",
       " ('My', 12),\n",
       " ('Just', 12),\n",
       " ('annoying', 12),\n",
       " ('need', 11),\n",
       " ('How', 11),\n",
       " ('way', 11),\n",
       " ('people', 11),\n",
       " ('#KillerBlondes', 11),\n",
       " ('She', 11),\n",
       " ('face.', 11),\n",
       " ('awful', 11),\n",
       " ('Drasko', 10),\n",
       " (\"that's\", 10),\n",
       " ('put', 10),\n",
       " ('shit', 10),\n",
       " ('whole', 10),\n",
       " ('You', 10),\n",
       " ('little', 10),\n",
       " ('tart', 10),\n",
       " ('That', 10),\n",
       " ('time', 10),\n",
       " ('good', 10),\n",
       " ('slap', 10),\n",
       " ('looking', 9),\n",
       " (\"they're\", 9),\n",
       " ('2', 9),\n",
       " ('Kat.', 9),\n",
       " ('This', 9),\n",
       " ('Kats', 9),\n",
       " ('every', 9),\n",
       " ('...', 9),\n",
       " ('KAT', 9),\n",
       " ('Colin', 8),\n",
       " ('someone', 8),\n",
       " ('They', 8),\n",
       " ('ugly', 8),\n",
       " ('deconstructed', 8),\n",
       " ('red', 8)]"
      ]
     },
     "execution_count": 60,
     "metadata": {},
     "output_type": "execute_result"
    }
   ],
   "source": [
    "Counter(\" \".join(hate_df[\"text_without_stopwords\"]).split()).most_common(100)"
   ]
  },
  {
   "cell_type": "markdown",
   "metadata": {
    "heading_collapsed": true
   },
   "source": [
    "# criando novas features"
   ]
  },
  {
   "cell_type": "code",
   "execution_count": 35,
   "metadata": {
    "hidden": true
   },
   "outputs": [],
   "source": [
    "cleaned_df = df\n",
    "cleaned_df.to_csv(\"TempData/cleaned_data.csv\")"
   ]
  },
  {
   "cell_type": "code",
   "execution_count": 36,
   "metadata": {
    "hidden": true
   },
   "outputs": [
    {
     "data": {
      "text/html": [
       "<div>\n",
       "<style scoped>\n",
       "    .dataframe tbody tr th:only-of-type {\n",
       "        vertical-align: middle;\n",
       "    }\n",
       "\n",
       "    .dataframe tbody tr th {\n",
       "        vertical-align: top;\n",
       "    }\n",
       "\n",
       "    .dataframe thead th {\n",
       "        text-align: right;\n",
       "    }\n",
       "</style>\n",
       "<table border=\"1\" class=\"dataframe\">\n",
       "  <thead>\n",
       "    <tr style=\"text-align: right;\">\n",
       "      <th></th>\n",
       "      <th>param_defaults</th>\n",
       "      <th>contributors</th>\n",
       "      <th>coordinates</th>\n",
       "      <th>created_at</th>\n",
       "      <th>current_user_retweet</th>\n",
       "      <th>favorite_count</th>\n",
       "      <th>favorited</th>\n",
       "      <th>full_text</th>\n",
       "      <th>geo</th>\n",
       "      <th>hashtags</th>\n",
       "      <th>...</th>\n",
       "      <th>withheld_scope</th>\n",
       "      <th>tweet_mode</th>\n",
       "      <th>_json</th>\n",
       "      <th>tweet_id</th>\n",
       "      <th>label</th>\n",
       "      <th>Unnamed: 41</th>\n",
       "      <th>Unnamed: 42</th>\n",
       "      <th>Unnamed: 43</th>\n",
       "      <th>user_id</th>\n",
       "      <th>tweet_amount</th>\n",
       "    </tr>\n",
       "  </thead>\n",
       "  <tbody>\n",
       "    <tr>\n",
       "      <th>0</th>\n",
       "      <td>{'contributors': None, 'coordinates': None, 'c...</td>\n",
       "      <td>NaN</td>\n",
       "      <td>NaN</td>\n",
       "      <td>Mon Mar 02 09:48:33 +0000 2015</td>\n",
       "      <td>NaN</td>\n",
       "      <td>2</td>\n",
       "      <td>False</td>\n",
       "      <td>NaN</td>\n",
       "      <td>NaN</td>\n",
       "      <td>[Hashtag(Text='MKR')]</td>\n",
       "      <td>...</td>\n",
       "      <td>NaN</td>\n",
       "      <td>compatibility</td>\n",
       "      <td>{'created_at': 'Mon Mar 02 09:48:33 +0000 2015...</td>\n",
       "      <td>5,7233265539763E+017</td>\n",
       "      <td>racism</td>\n",
       "      <td>NaN</td>\n",
       "      <td>NaN</td>\n",
       "      <td>NaN</td>\n",
       "      <td>2601524623</td>\n",
       "      <td>5</td>\n",
       "    </tr>\n",
       "    <tr>\n",
       "      <th>1</th>\n",
       "      <td>{'contributors': None, 'coordinates': None, 'c...</td>\n",
       "      <td>NaN</td>\n",
       "      <td>NaN</td>\n",
       "      <td>Mon Mar 02 09:58:33 +0000 2015</td>\n",
       "      <td>NaN</td>\n",
       "      <td>0</td>\n",
       "      <td>False</td>\n",
       "      <td>NaN</td>\n",
       "      <td>NaN</td>\n",
       "      <td>[Hashtag(Text='mkr')]</td>\n",
       "      <td>...</td>\n",
       "      <td>NaN</td>\n",
       "      <td>compatibility</td>\n",
       "      <td>{'created_at': 'Mon Mar 02 09:58:33 +0000 2015...</td>\n",
       "      <td>5,72335171862594E+017</td>\n",
       "      <td>sexism</td>\n",
       "      <td>NaN</td>\n",
       "      <td>NaN</td>\n",
       "      <td>NaN</td>\n",
       "      <td>2601524623</td>\n",
       "      <td>5</td>\n",
       "    </tr>\n",
       "    <tr>\n",
       "      <th>2</th>\n",
       "      <td>{'contributors': None, 'coordinates': None, 'c...</td>\n",
       "      <td>NaN</td>\n",
       "      <td>NaN</td>\n",
       "      <td>Mon Mar 02 09:53:39 +0000 2015</td>\n",
       "      <td>NaN</td>\n",
       "      <td>1</td>\n",
       "      <td>False</td>\n",
       "      <td>NaN</td>\n",
       "      <td>NaN</td>\n",
       "      <td>[Hashtag(Text='mkr')]</td>\n",
       "      <td>...</td>\n",
       "      <td>NaN</td>\n",
       "      <td>compatibility</td>\n",
       "      <td>{'created_at': 'Mon Mar 02 09:53:39 +0000 2015...</td>\n",
       "      <td>5,72333942440767E+017</td>\n",
       "      <td>sexism</td>\n",
       "      <td>NaN</td>\n",
       "      <td>NaN</td>\n",
       "      <td>NaN</td>\n",
       "      <td>2601524623</td>\n",
       "      <td>5</td>\n",
       "    </tr>\n",
       "    <tr>\n",
       "      <th>3</th>\n",
       "      <td>{'contributors': None, 'coordinates': None, 'c...</td>\n",
       "      <td>NaN</td>\n",
       "      <td>NaN</td>\n",
       "      <td>Mon Mar 02 10:03:59 +0000 2015</td>\n",
       "      <td>NaN</td>\n",
       "      <td>2</td>\n",
       "      <td>False</td>\n",
       "      <td>NaN</td>\n",
       "      <td>NaN</td>\n",
       "      <td>[Hashtag(Text='mkr')]</td>\n",
       "      <td>...</td>\n",
       "      <td>NaN</td>\n",
       "      <td>compatibility</td>\n",
       "      <td>{'created_at': 'Mon Mar 02 10:03:59 +0000 2015...</td>\n",
       "      <td>5,72336542179459E+017</td>\n",
       "      <td>none</td>\n",
       "      <td>NaN</td>\n",
       "      <td>NaN</td>\n",
       "      <td>NaN</td>\n",
       "      <td>2601524623</td>\n",
       "      <td>5</td>\n",
       "    </tr>\n",
       "    <tr>\n",
       "      <th>4</th>\n",
       "      <td>{'contributors': None, 'coordinates': None, 'c...</td>\n",
       "      <td>NaN</td>\n",
       "      <td>NaN</td>\n",
       "      <td>Mon Mar 02 09:56:52 +0000 2015</td>\n",
       "      <td>NaN</td>\n",
       "      <td>0</td>\n",
       "      <td>False</td>\n",
       "      <td>NaN</td>\n",
       "      <td>NaN</td>\n",
       "      <td>[Hashtag(Text='mkr')]</td>\n",
       "      <td>...</td>\n",
       "      <td>NaN</td>\n",
       "      <td>compatibility</td>\n",
       "      <td>{'created_at': 'Mon Mar 02 09:56:52 +0000 2015...</td>\n",
       "      <td>5,72334749840101E+017</td>\n",
       "      <td>none</td>\n",
       "      <td>NaN</td>\n",
       "      <td>NaN</td>\n",
       "      <td>NaN</td>\n",
       "      <td>2601524623</td>\n",
       "      <td>5</td>\n",
       "    </tr>\n",
       "    <tr>\n",
       "      <th>...</th>\n",
       "      <td>...</td>\n",
       "      <td>...</td>\n",
       "      <td>...</td>\n",
       "      <td>...</td>\n",
       "      <td>...</td>\n",
       "      <td>...</td>\n",
       "      <td>...</td>\n",
       "      <td>...</td>\n",
       "      <td>...</td>\n",
       "      <td>...</td>\n",
       "      <td>...</td>\n",
       "      <td>...</td>\n",
       "      <td>...</td>\n",
       "      <td>...</td>\n",
       "      <td>...</td>\n",
       "      <td>...</td>\n",
       "      <td>...</td>\n",
       "      <td>...</td>\n",
       "      <td>...</td>\n",
       "      <td>...</td>\n",
       "      <td>...</td>\n",
       "    </tr>\n",
       "    <tr>\n",
       "      <th>3696</th>\n",
       "      <td>{'contributors': None, 'coordinates': None, 'c...</td>\n",
       "      <td>NaN</td>\n",
       "      <td>NaN</td>\n",
       "      <td>Thu Mar 12 09:15:51 +0000 2015</td>\n",
       "      <td>NaN</td>\n",
       "      <td>0</td>\n",
       "      <td>False</td>\n",
       "      <td>NaN</td>\n",
       "      <td>NaN</td>\n",
       "      <td>[Hashtag(Text='mkr')]</td>\n",
       "      <td>...</td>\n",
       "      <td>NaN</td>\n",
       "      <td>compatibility</td>\n",
       "      <td>{'created_at': 'Thu Mar 12 09:15:51 +0000 2015...</td>\n",
       "      <td>5,759483075932E+017</td>\n",
       "      <td>none</td>\n",
       "      <td>NaN</td>\n",
       "      <td>NaN</td>\n",
       "      <td>NaN</td>\n",
       "      <td>1661663203</td>\n",
       "      <td>1</td>\n",
       "    </tr>\n",
       "    <tr>\n",
       "      <th>3697</th>\n",
       "      <td>{'contributors': None, 'coordinates': None, 'c...</td>\n",
       "      <td>NaN</td>\n",
       "      <td>NaN</td>\n",
       "      <td>Sat Mar 14 08:19:07 +0000 2015</td>\n",
       "      <td>NaN</td>\n",
       "      <td>0</td>\n",
       "      <td>False</td>\n",
       "      <td>NaN</td>\n",
       "      <td>NaN</td>\n",
       "      <td>[Hashtag(Text='MKR')]</td>\n",
       "      <td>...</td>\n",
       "      <td>NaN</td>\n",
       "      <td>compatibility</td>\n",
       "      <td>{'created_at': 'Sat Mar 14 08:19:07 +0000 2015...</td>\n",
       "      <td>5,76658802910495E+017</td>\n",
       "      <td>none</td>\n",
       "      <td>NaN</td>\n",
       "      <td>NaN</td>\n",
       "      <td>NaN</td>\n",
       "      <td>191741196</td>\n",
       "      <td>1</td>\n",
       "    </tr>\n",
       "    <tr>\n",
       "      <th>3698</th>\n",
       "      <td>{'contributors': None, 'coordinates': None, 'c...</td>\n",
       "      <td>NaN</td>\n",
       "      <td>NaN</td>\n",
       "      <td>Thu Mar 12 09:13:47 +0000 2015</td>\n",
       "      <td>NaN</td>\n",
       "      <td>1</td>\n",
       "      <td>False</td>\n",
       "      <td>NaN</td>\n",
       "      <td>NaN</td>\n",
       "      <td>[Hashtag(Text='mkr')]</td>\n",
       "      <td>...</td>\n",
       "      <td>NaN</td>\n",
       "      <td>compatibility</td>\n",
       "      <td>{'created_at': 'Thu Mar 12 09:13:47 +0000 2015...</td>\n",
       "      <td>5,75947787474461E+017</td>\n",
       "      <td>none</td>\n",
       "      <td>NaN</td>\n",
       "      <td>NaN</td>\n",
       "      <td>NaN</td>\n",
       "      <td>1330268850</td>\n",
       "      <td>1</td>\n",
       "    </tr>\n",
       "    <tr>\n",
       "      <th>3699</th>\n",
       "      <td>{'contributors': None, 'coordinates': None, 'c...</td>\n",
       "      <td>NaN</td>\n",
       "      <td>{'type': 'Point', 'coordinates': [145.08564091...</td>\n",
       "      <td>Sat Mar 14 11:17:58 +0000 2015</td>\n",
       "      <td>NaN</td>\n",
       "      <td>2</td>\n",
       "      <td>False</td>\n",
       "      <td>NaN</td>\n",
       "      <td>{'type': 'Point', 'coordinates': [-38.19827417...</td>\n",
       "      <td>[Hashtag(Text='peteevans'), Hashtag(Text='mkr'...</td>\n",
       "      <td>...</td>\n",
       "      <td>NaN</td>\n",
       "      <td>compatibility</td>\n",
       "      <td>{'created_at': 'Sat Mar 14 11:17:58 +0000 2015...</td>\n",
       "      <td>5,76703811961532E+017</td>\n",
       "      <td>none</td>\n",
       "      <td>NaN</td>\n",
       "      <td>NaN</td>\n",
       "      <td>NaN</td>\n",
       "      <td>1309068553</td>\n",
       "      <td>1</td>\n",
       "    </tr>\n",
       "    <tr>\n",
       "      <th>3700</th>\n",
       "      <td>{'contributors': None, 'coordinates': None, 'c...</td>\n",
       "      <td>NaN</td>\n",
       "      <td>NaN</td>\n",
       "      <td>Thu Mar 12 09:18:24 +0000 2015</td>\n",
       "      <td>NaN</td>\n",
       "      <td>0</td>\n",
       "      <td>False</td>\n",
       "      <td>NaN</td>\n",
       "      <td>NaN</td>\n",
       "      <td>[Hashtag(Text='mkr')]</td>\n",
       "      <td>...</td>\n",
       "      <td>NaN</td>\n",
       "      <td>compatibility</td>\n",
       "      <td>{'created_at': 'Thu Mar 12 09:18:24 +0000 2015...</td>\n",
       "      <td>5,75948948843553E+017</td>\n",
       "      <td>none</td>\n",
       "      <td>NaN</td>\n",
       "      <td>NaN</td>\n",
       "      <td>NaN</td>\n",
       "      <td>22349745</td>\n",
       "      <td>1</td>\n",
       "    </tr>\n",
       "  </tbody>\n",
       "</table>\n",
       "<p>3701 rows × 45 columns</p>\n",
       "</div>"
      ],
      "text/plain": [
       "                                         param_defaults  contributors  \\\n",
       "0     {'contributors': None, 'coordinates': None, 'c...           NaN   \n",
       "1     {'contributors': None, 'coordinates': None, 'c...           NaN   \n",
       "2     {'contributors': None, 'coordinates': None, 'c...           NaN   \n",
       "3     {'contributors': None, 'coordinates': None, 'c...           NaN   \n",
       "4     {'contributors': None, 'coordinates': None, 'c...           NaN   \n",
       "...                                                 ...           ...   \n",
       "3696  {'contributors': None, 'coordinates': None, 'c...           NaN   \n",
       "3697  {'contributors': None, 'coordinates': None, 'c...           NaN   \n",
       "3698  {'contributors': None, 'coordinates': None, 'c...           NaN   \n",
       "3699  {'contributors': None, 'coordinates': None, 'c...           NaN   \n",
       "3700  {'contributors': None, 'coordinates': None, 'c...           NaN   \n",
       "\n",
       "                                            coordinates  \\\n",
       "0                                                   NaN   \n",
       "1                                                   NaN   \n",
       "2                                                   NaN   \n",
       "3                                                   NaN   \n",
       "4                                                   NaN   \n",
       "...                                                 ...   \n",
       "3696                                                NaN   \n",
       "3697                                                NaN   \n",
       "3698                                                NaN   \n",
       "3699  {'type': 'Point', 'coordinates': [145.08564091...   \n",
       "3700                                                NaN   \n",
       "\n",
       "                          created_at  current_user_retweet  favorite_count  \\\n",
       "0     Mon Mar 02 09:48:33 +0000 2015                   NaN               2   \n",
       "1     Mon Mar 02 09:58:33 +0000 2015                   NaN               0   \n",
       "2     Mon Mar 02 09:53:39 +0000 2015                   NaN               1   \n",
       "3     Mon Mar 02 10:03:59 +0000 2015                   NaN               2   \n",
       "4     Mon Mar 02 09:56:52 +0000 2015                   NaN               0   \n",
       "...                              ...                   ...             ...   \n",
       "3696  Thu Mar 12 09:15:51 +0000 2015                   NaN               0   \n",
       "3697  Sat Mar 14 08:19:07 +0000 2015                   NaN               0   \n",
       "3698  Thu Mar 12 09:13:47 +0000 2015                   NaN               1   \n",
       "3699  Sat Mar 14 11:17:58 +0000 2015                   NaN               2   \n",
       "3700  Thu Mar 12 09:18:24 +0000 2015                   NaN               0   \n",
       "\n",
       "      favorited  full_text                                                geo  \\\n",
       "0         False        NaN                                                NaN   \n",
       "1         False        NaN                                                NaN   \n",
       "2         False        NaN                                                NaN   \n",
       "3         False        NaN                                                NaN   \n",
       "4         False        NaN                                                NaN   \n",
       "...         ...        ...                                                ...   \n",
       "3696      False        NaN                                                NaN   \n",
       "3697      False        NaN                                                NaN   \n",
       "3698      False        NaN                                                NaN   \n",
       "3699      False        NaN  {'type': 'Point', 'coordinates': [-38.19827417...   \n",
       "3700      False        NaN                                                NaN   \n",
       "\n",
       "                                               hashtags  ... withheld_scope  \\\n",
       "0                                 [Hashtag(Text='MKR')]  ...            NaN   \n",
       "1                                 [Hashtag(Text='mkr')]  ...            NaN   \n",
       "2                                 [Hashtag(Text='mkr')]  ...            NaN   \n",
       "3                                 [Hashtag(Text='mkr')]  ...            NaN   \n",
       "4                                 [Hashtag(Text='mkr')]  ...            NaN   \n",
       "...                                                 ...  ...            ...   \n",
       "3696                              [Hashtag(Text='mkr')]  ...            NaN   \n",
       "3697                              [Hashtag(Text='MKR')]  ...            NaN   \n",
       "3698                              [Hashtag(Text='mkr')]  ...            NaN   \n",
       "3699  [Hashtag(Text='peteevans'), Hashtag(Text='mkr'...  ...            NaN   \n",
       "3700                              [Hashtag(Text='mkr')]  ...            NaN   \n",
       "\n",
       "         tweet_mode                                              _json  \\\n",
       "0     compatibility  {'created_at': 'Mon Mar 02 09:48:33 +0000 2015...   \n",
       "1     compatibility  {'created_at': 'Mon Mar 02 09:58:33 +0000 2015...   \n",
       "2     compatibility  {'created_at': 'Mon Mar 02 09:53:39 +0000 2015...   \n",
       "3     compatibility  {'created_at': 'Mon Mar 02 10:03:59 +0000 2015...   \n",
       "4     compatibility  {'created_at': 'Mon Mar 02 09:56:52 +0000 2015...   \n",
       "...             ...                                                ...   \n",
       "3696  compatibility  {'created_at': 'Thu Mar 12 09:15:51 +0000 2015...   \n",
       "3697  compatibility  {'created_at': 'Sat Mar 14 08:19:07 +0000 2015...   \n",
       "3698  compatibility  {'created_at': 'Thu Mar 12 09:13:47 +0000 2015...   \n",
       "3699  compatibility  {'created_at': 'Sat Mar 14 11:17:58 +0000 2015...   \n",
       "3700  compatibility  {'created_at': 'Thu Mar 12 09:18:24 +0000 2015...   \n",
       "\n",
       "                   tweet_id   label Unnamed: 41  Unnamed: 42 Unnamed: 43  \\\n",
       "0      5,7233265539763E+017  racism         NaN          NaN         NaN   \n",
       "1     5,72335171862594E+017  sexism         NaN          NaN         NaN   \n",
       "2     5,72333942440767E+017  sexism         NaN          NaN         NaN   \n",
       "3     5,72336542179459E+017    none         NaN          NaN         NaN   \n",
       "4     5,72334749840101E+017    none         NaN          NaN         NaN   \n",
       "...                     ...     ...         ...          ...         ...   \n",
       "3696    5,759483075932E+017    none         NaN          NaN         NaN   \n",
       "3697  5,76658802910495E+017    none         NaN          NaN         NaN   \n",
       "3698  5,75947787474461E+017    none         NaN          NaN         NaN   \n",
       "3699  5,76703811961532E+017    none         NaN          NaN         NaN   \n",
       "3700  5,75948948843553E+017    none         NaN          NaN         NaN   \n",
       "\n",
       "         user_id tweet_amount  \n",
       "0     2601524623            5  \n",
       "1     2601524623            5  \n",
       "2     2601524623            5  \n",
       "3     2601524623            5  \n",
       "4     2601524623            5  \n",
       "...          ...          ...  \n",
       "3696  1661663203            1  \n",
       "3697   191741196            1  \n",
       "3698  1330268850            1  \n",
       "3699  1309068553            1  \n",
       "3700    22349745            1  \n",
       "\n",
       "[3701 rows x 45 columns]"
      ]
     },
     "execution_count": 36,
     "metadata": {},
     "output_type": "execute_result"
    }
   ],
   "source": [
    "cleaned_df"
   ]
  },
  {
   "cell_type": "code",
   "execution_count": 37,
   "metadata": {
    "hidden": true,
    "scrolled": true
   },
   "outputs": [],
   "source": [
    "cleaned_df.loc[:, [\"text\", \"label\"]].to_csv(\"TempData/model_data.csv\")"
   ]
  },
  {
   "cell_type": "code",
   "execution_count": 38,
   "metadata": {
    "hidden": true
   },
   "outputs": [
    {
     "data": {
      "text/html": [
       "<div>\n",
       "<style scoped>\n",
       "    .dataframe tbody tr th:only-of-type {\n",
       "        vertical-align: middle;\n",
       "    }\n",
       "\n",
       "    .dataframe tbody tr th {\n",
       "        vertical-align: top;\n",
       "    }\n",
       "\n",
       "    .dataframe thead th {\n",
       "        text-align: right;\n",
       "    }\n",
       "</style>\n",
       "<table border=\"1\" class=\"dataframe\">\n",
       "  <thead>\n",
       "    <tr style=\"text-align: right;\">\n",
       "      <th></th>\n",
       "      <th>param_defaults</th>\n",
       "      <th>contributors</th>\n",
       "      <th>coordinates</th>\n",
       "      <th>created_at</th>\n",
       "      <th>current_user_retweet</th>\n",
       "      <th>favorite_count</th>\n",
       "      <th>favorited</th>\n",
       "      <th>full_text</th>\n",
       "      <th>geo</th>\n",
       "      <th>hashtags</th>\n",
       "      <th>...</th>\n",
       "      <th>withheld_in_countries</th>\n",
       "      <th>withheld_scope</th>\n",
       "      <th>tweet_mode</th>\n",
       "      <th>_json</th>\n",
       "      <th>tweet_id</th>\n",
       "      <th>Unnamed: 41</th>\n",
       "      <th>Unnamed: 42</th>\n",
       "      <th>Unnamed: 43</th>\n",
       "      <th>user_id</th>\n",
       "      <th>tweet_amount</th>\n",
       "    </tr>\n",
       "    <tr>\n",
       "      <th>label</th>\n",
       "      <th></th>\n",
       "      <th></th>\n",
       "      <th></th>\n",
       "      <th></th>\n",
       "      <th></th>\n",
       "      <th></th>\n",
       "      <th></th>\n",
       "      <th></th>\n",
       "      <th></th>\n",
       "      <th></th>\n",
       "      <th></th>\n",
       "      <th></th>\n",
       "      <th></th>\n",
       "      <th></th>\n",
       "      <th></th>\n",
       "      <th></th>\n",
       "      <th></th>\n",
       "      <th></th>\n",
       "      <th></th>\n",
       "      <th></th>\n",
       "      <th></th>\n",
       "    </tr>\n",
       "  </thead>\n",
       "  <tbody>\n",
       "    <tr>\n",
       "      <th>none</th>\n",
       "      <td>2968</td>\n",
       "      <td>0</td>\n",
       "      <td>124</td>\n",
       "      <td>2968</td>\n",
       "      <td>0</td>\n",
       "      <td>2968</td>\n",
       "      <td>2968</td>\n",
       "      <td>0</td>\n",
       "      <td>124</td>\n",
       "      <td>2968</td>\n",
       "      <td>...</td>\n",
       "      <td>0</td>\n",
       "      <td>0</td>\n",
       "      <td>2968</td>\n",
       "      <td>2968</td>\n",
       "      <td>2968</td>\n",
       "      <td>0</td>\n",
       "      <td>0</td>\n",
       "      <td>0</td>\n",
       "      <td>2968</td>\n",
       "      <td>2968</td>\n",
       "    </tr>\n",
       "    <tr>\n",
       "      <th>racism</th>\n",
       "      <td>10</td>\n",
       "      <td>0</td>\n",
       "      <td>2</td>\n",
       "      <td>10</td>\n",
       "      <td>0</td>\n",
       "      <td>10</td>\n",
       "      <td>10</td>\n",
       "      <td>0</td>\n",
       "      <td>2</td>\n",
       "      <td>10</td>\n",
       "      <td>...</td>\n",
       "      <td>0</td>\n",
       "      <td>0</td>\n",
       "      <td>10</td>\n",
       "      <td>10</td>\n",
       "      <td>10</td>\n",
       "      <td>0</td>\n",
       "      <td>0</td>\n",
       "      <td>0</td>\n",
       "      <td>10</td>\n",
       "      <td>10</td>\n",
       "    </tr>\n",
       "    <tr>\n",
       "      <th>sexism</th>\n",
       "      <td>723</td>\n",
       "      <td>0</td>\n",
       "      <td>40</td>\n",
       "      <td>723</td>\n",
       "      <td>0</td>\n",
       "      <td>723</td>\n",
       "      <td>723</td>\n",
       "      <td>0</td>\n",
       "      <td>40</td>\n",
       "      <td>723</td>\n",
       "      <td>...</td>\n",
       "      <td>0</td>\n",
       "      <td>0</td>\n",
       "      <td>723</td>\n",
       "      <td>723</td>\n",
       "      <td>723</td>\n",
       "      <td>0</td>\n",
       "      <td>0</td>\n",
       "      <td>0</td>\n",
       "      <td>723</td>\n",
       "      <td>723</td>\n",
       "    </tr>\n",
       "  </tbody>\n",
       "</table>\n",
       "<p>3 rows × 44 columns</p>\n",
       "</div>"
      ],
      "text/plain": [
       "        param_defaults  contributors  coordinates  created_at  \\\n",
       "label                                                           \n",
       "none              2968             0          124        2968   \n",
       "racism              10             0            2          10   \n",
       "sexism             723             0           40         723   \n",
       "\n",
       "        current_user_retweet  favorite_count  favorited  full_text  geo  \\\n",
       "label                                                                     \n",
       "none                       0            2968       2968          0  124   \n",
       "racism                     0              10         10          0    2   \n",
       "sexism                     0             723        723          0   40   \n",
       "\n",
       "        hashtags  ...  withheld_in_countries  withheld_scope  tweet_mode  \\\n",
       "label             ...                                                      \n",
       "none        2968  ...                      0               0        2968   \n",
       "racism        10  ...                      0               0          10   \n",
       "sexism       723  ...                      0               0         723   \n",
       "\n",
       "        _json  tweet_id  Unnamed: 41  Unnamed: 42  Unnamed: 43  user_id  \\\n",
       "label                                                                     \n",
       "none     2968      2968            0            0            0     2968   \n",
       "racism     10        10            0            0            0       10   \n",
       "sexism    723       723            0            0            0      723   \n",
       "\n",
       "        tweet_amount  \n",
       "label                 \n",
       "none            2968  \n",
       "racism            10  \n",
       "sexism           723  \n",
       "\n",
       "[3 rows x 44 columns]"
      ]
     },
     "execution_count": 38,
     "metadata": {},
     "output_type": "execute_result"
    }
   ],
   "source": [
    "cleaned_df.groupby(\"label\").count()"
   ]
  },
  {
   "cell_type": "markdown",
   "metadata": {
    "hidden": true
   },
   "source": [
    "Como pode ver, o resultado final é que temos 2968 tweets que não possuem discurso de ódio e 733 que possuem.\n",
    "O que indica 19,8% da classe \"ódio\" e 80,2% de classe \"sem ódio\"."
   ]
  },
  {
   "cell_type": "code",
   "execution_count": null,
   "metadata": {
    "hidden": true
   },
   "outputs": [],
   "source": []
  }
 ],
 "metadata": {
  "kernelspec": {
   "display_name": "Python 3",
   "language": "python",
   "name": "python3"
  },
  "language_info": {
   "codemirror_mode": {
    "name": "ipython",
    "version": 3
   },
   "file_extension": ".py",
   "mimetype": "text/x-python",
   "name": "python",
   "nbconvert_exporter": "python",
   "pygments_lexer": "ipython3",
   "version": "3.8.2"
  }
 },
 "nbformat": 4,
 "nbformat_minor": 4
}
